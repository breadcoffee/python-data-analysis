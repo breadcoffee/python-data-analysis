{
 "cells": [
  {
   "cell_type": "code",
   "execution_count": 1,
   "metadata": {},
   "outputs": [],
   "source": [
    "# data : 20240131\n",
    "# desc : 상관관계"
   ]
  },
  {
   "cell_type": "code",
   "execution_count": 2,
   "metadata": {},
   "outputs": [
    {
     "name": "stdout",
     "output_type": "stream",
     "text": [
      "[[ 1.         -0.56694671]\n",
      " [-0.56694671  1.        ]]\n"
     ]
    }
   ],
   "source": [
    "# numpy를 이용한 상관분석\n",
    "import numpy as np\n",
    "a=np.array([1,2,3,4,5])\n",
    "b=np.array([3,2,3,1,2])\n",
    "\n",
    "print(np.corrcoef(a,b))"
   ]
  },
  {
   "cell_type": "code",
   "execution_count": 4,
   "metadata": {},
   "outputs": [
    {
     "name": "stdout",
     "output_type": "stream",
     "text": [
      "          CA_TOT    HM_AVG    RN_DAY\n",
      "CA_TOT  1.000000  0.665570  0.561871\n",
      "HM_AVG  0.665570  1.000000  0.591783\n",
      "RN_DAY  0.561871  0.591783  1.000000\n"
     ]
    }
   ],
   "source": [
    "# pandas를 이용한 상관분석\n",
    "import pandas as pd\n",
    "mydata = pd.read_csv('../mydata.csv')\n",
    "\n",
    "X = mydata.iloc[:,1:4]\n",
    "print(X.corr(method='pearson'))"
   ]
  }
 ],
 "metadata": {
  "kernelspec": {
   "display_name": "Python 3",
   "language": "python",
   "name": "python3"
  },
  "language_info": {
   "codemirror_mode": {
    "name": "ipython",
    "version": 3
   },
   "file_extension": ".py",
   "mimetype": "text/x-python",
   "name": "python",
   "nbconvert_exporter": "python",
   "pygments_lexer": "ipython3",
   "version": "3.11.5"
  }
 },
 "nbformat": 4,
 "nbformat_minor": 2
}
